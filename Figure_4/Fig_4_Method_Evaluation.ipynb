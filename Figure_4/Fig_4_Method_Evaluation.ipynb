{
 "cells": [
  {
   "cell_type": "markdown",
   "id": "8933e7c9-caae-458a-916b-382b68b521e6",
   "metadata": {},
   "source": [
    "# Preparing notebook and folders"
   ]
  },
  {
   "cell_type": "code",
   "execution_count": 1,
   "id": "3231cf0b-1f75-470d-9cab-607acc0a156e",
   "metadata": {},
   "outputs": [],
   "source": [
    "import os\n",
    "os.environ[\"CUDA_VISIBLE_DEVICES\"]=\"0\"\n",
    "os.environ['TF_FORCE_GPU_ALLOW_GROWTH'] = 'true'\n",
    "os.environ['TF_CPP_MIN_LOG_LEVEL'] = '2'\n",
    "os.environ['PYTHONHASHSEED'] = '2'"
   ]
  },
  {
   "cell_type": "code",
   "execution_count": 2,
   "id": "b091a6cc-6124-44c0-abae-edeb9a5233ee",
   "metadata": {},
   "outputs": [
    {
     "name": "stderr",
     "output_type": "stream",
     "text": [
      "/usr/lib/python3.11/site-packages/h5py/__init__.py:36: UserWarning: h5py is running against HDF5 1.14.1 when it was built against 1.14.0, this may cause problems\n",
      "  _warn((\"h5py is running against HDF5 {0} when it was built against {1}, \"\n"
     ]
    }
   ],
   "source": [
    "import numpy as np\n",
    "np.random.seed(18)\n",
    "import matplotlib.pyplot as plt\n",
    "from keras.models import load_model\n",
    "\n",
    "import concurrent.futures\n",
    "import functools\n",
    "\n",
    "import time\n",
    "\n",
    "from F4_func_file import *"
   ]
  },
  {
   "cell_type": "code",
   "execution_count": 3,
   "id": "ea9e0101-c183-46e5-8e79-798c1327f5ea",
   "metadata": {},
   "outputs": [],
   "source": [
    "#Create folder for storing evaluated data files\n",
    "if not os.path.exists(\"Evaluated_data\"):\n",
    "    os.mkdir(\"Evaluated_data\")"
   ]
  },
  {
   "cell_type": "markdown",
   "id": "0a63cdd6-5c85-4543-bce2-6897bea68f22",
   "metadata": {},
   "source": [
    "## Load model and data"
   ]
  },
  {
   "cell_type": "code",
   "execution_count": 4,
   "id": "84a6c5bd-aafe-4d6f-9ef8-e22b57f95599",
   "metadata": {},
   "outputs": [],
   "source": [
    "#Load the DAMN model\n",
    "DAMN_model = load_model(\"DAMN_model.h5\", custom_objects={\"custom_mse_func\": custom_mse_func, \"custom_mae_func\": custom_mae_func})"
   ]
  },
  {
   "cell_type": "code",
   "execution_count": 5,
   "id": "32b16794-61f1-468e-a2f6-27a5dddbd91a",
   "metadata": {},
   "outputs": [
    {
     "name": "stdout",
     "output_type": "stream",
     "text": [
      "Measured data shape: (8, 1000, 50, 50)\n",
      "Simulated data shape: (101, 100, 50, 50)\n"
     ]
    }
   ],
   "source": [
    "#Load the experimentally measured data\n",
    "meas_data_in = np.load(\"Measured_data.npz\")[\"LR_meas_data\"]\n",
    "meas_data_target = np.load(\"Measured_data.npz\")[\"HR_meas_data\"]\n",
    "meas_shape = meas_data_in.shape\n",
    "print(\"Measured data shape:\", meas_shape)\n",
    "\n",
    "#Load the simulated data wth parameters estimated from experiment\n",
    "sim_data_in = np.load(\"Simulated_data/Simulated_data_low_res.npy\")\n",
    "sim_data_target = np.load(\"Simulated_data/Simulated_data_high_res.npy\")\n",
    "sim_shape = sim_data_in.shape\n",
    "print(\"Simulated data shape:\", sim_shape)"
   ]
  },
  {
   "cell_type": "markdown",
   "id": "43ccb5d6-e286-443c-bd2a-17b5815b789a",
   "metadata": {},
   "source": [
    "## Evaluate both methods\n",
    "\n",
    "### DAMN model\n",
    "\n",
    "#### Simulated data"
   ]
  },
  {
   "cell_type": "code",
   "execution_count": 6,
   "id": "88e7a272-26d7-4263-acfc-b92bd42f8b44",
   "metadata": {},
   "outputs": [
    {
     "name": "stdout",
     "output_type": "stream",
     "text": [
      "Simulated data reshaped: (10100, 50, 50, 1)\n"
     ]
    }
   ],
   "source": [
    "#Adjust the data shapes for easier evaluation\n",
    "sim_data_in_reshaped = np.reshape(sim_data_in, (sim_shape[0]*sim_shape[1], sim_shape[2], sim_shape[3], 1))\n",
    "sim_data_target_reshaped = np.reshape(sim_data_target, (sim_shape[0]*sim_shape[1], sim_shape[2], sim_shape[3], 1))\n",
    "\n",
    "print(\"Simulated data reshaped:\", sim_data_in_reshaped.shape)"
   ]
  },
  {
   "cell_type": "code",
   "execution_count": 7,
   "id": "70558415-9052-4c5d-9edc-4ed62ef58f52",
   "metadata": {},
   "outputs": [
    {
     "name": "stdout",
     "output_type": "stream",
     "text": [
      "316/316 [==============================] - 20s 57ms/step\n"
     ]
    }
   ],
   "source": [
    "#Use the DAMN model to predict high-resolution images\n",
    "DAMN_sim_output_reshaped = np.squeeze(DAMN_model.predict(sim_data_in_reshaped))\n",
    "\n",
    "#And return to the original shape\n",
    "DAMN_sim_output = DAMN_sim_output_reshaped.reshape((sim_shape[0], sim_shape[1], sim_shape[2], sim_shape[3]))\n",
    "\n",
    "np.save(\"Evaluated_data/DAMN_Simulated_data_output.npy\", DAMN_sim_output)"
   ]
  },
  {
   "cell_type": "code",
   "execution_count": 8,
   "id": "f8b9110c-1f8b-4861-b1f4-361dda422c20",
   "metadata": {},
   "outputs": [],
   "source": [
    "#Evaluate a chosen metric comparing the DAMN output with the corresponding target image\n",
    "DAMN_sim_errors = Evaluate_metric(DAMN_sim_output, sim_data_target)\n",
    "\n",
    "np.save(\"Evaluated_data/DAMN_Simulated_data_errors.npy\", DAMN_sim_errors)"
   ]
  },
  {
   "cell_type": "markdown",
   "id": "c9b83f1d-98f3-44dc-aff7-6249fadf8dce",
   "metadata": {},
   "source": [
    "#### Measured data"
   ]
  },
  {
   "cell_type": "code",
   "execution_count": 9,
   "id": "dcd19c1d-280e-45e9-8479-bbfd3efcdf5c",
   "metadata": {},
   "outputs": [
    {
     "name": "stdout",
     "output_type": "stream",
     "text": [
      "Measured data reshaped: (8000, 50, 50, 1)\n"
     ]
    }
   ],
   "source": [
    "#Adjust the data shapes for easier evaluation\n",
    "meas_data_in_reshaped = np.reshape(meas_data_in, (meas_shape[0]*meas_shape[1], meas_shape[2], meas_shape[3], 1))\n",
    "meas_data_target_reshaped = np.reshape(meas_data_target, (meas_shape[0]*meas_shape[1], meas_shape[2], meas_shape[3], 1))\n",
    "\n",
    "print(\"Measured data reshaped:\", meas_data_in_reshaped.shape)"
   ]
  },
  {
   "cell_type": "code",
   "execution_count": 10,
   "id": "f229dc5b-4e73-4f22-885f-209b96efd575",
   "metadata": {},
   "outputs": [
    {
     "name": "stdout",
     "output_type": "stream",
     "text": [
      "250/250 [==============================] - 14s 58ms/step\n"
     ]
    }
   ],
   "source": [
    "#Use the DAMN model to predict high-resolution images\n",
    "DAMN_meas_output_reshaped = np.squeeze(DAMN_model.predict(meas_data_in_reshaped))\n",
    "\n",
    "#And return to the original shape\n",
    "DAMN_meas_output = DAMN_meas_output_reshaped.reshape((meas_shape[0], meas_shape[1], meas_shape[2], meas_shape[3]))\n",
    "\n",
    "np.save(\"Evaluated_data/DAMN_Measured_data_output.npy\", DAMN_meas_output)"
   ]
  },
  {
   "cell_type": "code",
   "execution_count": 11,
   "id": "606c98e6-b04a-4e0e-ba71-355125fac3f3",
   "metadata": {},
   "outputs": [],
   "source": [
    "#Evaluate a chosen metric comparing the DAMN output with the corresponding target image\n",
    "DAMN_meas_errors = Evaluate_metric(DAMN_meas_output, meas_data_target)\n",
    "\n",
    "np.save(\"Evaluated_data/DAMN_Measured_data_errors.npy\", DAMN_meas_errors)"
   ]
  },
  {
   "cell_type": "markdown",
   "id": "204da6bb-4439-4bf8-8d2e-4813c22a418c",
   "metadata": {},
   "source": [
    "### RL algorithm"
   ]
  },
  {
   "cell_type": "code",
   "execution_count": 12,
   "id": "226b557d-1198-4415-a201-e142e25ebdf7",
   "metadata": {},
   "outputs": [],
   "source": [
    "#To fasten the Richardson_lucy algorithm, we split the data evaluation among several CPU units using ProcessPoolExecutor from concurrent.futures\n",
    "CPU_units_to_use = 20   #Set to 1 if you are not familiar with ProcessPoolExecutor or your CPU availability\n",
    "\n",
    "#Specifying the PSF_width value separately estimated from calibration data; requirement for Richardson-Lucy algorithm\n",
    "PSF_width_value = 2.05\n",
    "kernel = Gauss_kernel(PSF_width_value)"
   ]
  },
  {
   "cell_type": "markdown",
   "id": "52ae5f56-bd35-4757-8c2b-96191bbb4f75",
   "metadata": {},
   "source": [
    "#### Simulated data"
   ]
  },
  {
   "cell_type": "code",
   "execution_count": 13,
   "id": "f9f5ea93-a1d3-4df1-880f-af09b9e2d5f9",
   "metadata": {},
   "outputs": [
    {
     "name": "stdout",
     "output_type": "stream",
     "text": [
      "Using the following Simulated data shape for RL algorithm: (101, 100, 50, 50)\n"
     ]
    }
   ],
   "source": [
    "#As the RL algorithm is very time consuming (matter of up to hours), you can choose to evaluate only a small portion of the data for the graph visualization\n",
    "#Namely, 1/5 of data samples in every 4-nd point on the horizontal axis\n",
    "use_all_sim_data = True             #Switch to False for evaluating only the reduced dataset \n",
    "\n",
    "if use_all_sim_data:\n",
    "    RL_sim_data_in = sim_data_in\n",
    "    RL_sim_data_target = sim_data_target\n",
    "    RL_sim_output = np.zeros(sim_data_in.shape)\n",
    "else:\n",
    "    RL_sim_data_in = sim_data_in[::4,:20]\n",
    "    RL_sim_data_target = sim_data_target[::4,:20]\n",
    "    RL_sim_output = np.zeros(sim_data_in[::4,:20].shape)\n",
    "\n",
    "print(\"Using the following Simulated data shape for RL algorithm:\", RL_sim_data_in.shape)"
   ]
  },
  {
   "cell_type": "markdown",
   "id": "6c21870c-fe9e-4cc4-b491-22c7e03a9434",
   "metadata": {},
   "source": [
    "##### The following cell runs the Richardson-Lucy algorithm, which might turn very time consuming"
   ]
  },
  {
   "cell_type": "code",
   "execution_count": 14,
   "id": "14d3ac55-8a43-4c6e-a432-d7d53d51b7c6",
   "metadata": {
    "scrolled": true
   },
   "outputs": [
    {
     "name": "stdout",
     "output_type": "stream",
     "text": [
      "Finished iteration 1 out of 101 in 13.98 seconds (13.98 from start).\n",
      "Finished iteration 2 out of 101 in 15.75 seconds (29.73 from start).\n",
      "Finished iteration 3 out of 101 in 14.12 seconds (43.86 from start).\n",
      "Finished iteration 4 out of 101 in 14.21 seconds (58.07 from start).\n",
      "Finished iteration 5 out of 101 in 14.23 seconds (72.3 from start).\n",
      "Finished iteration 6 out of 101 in 14.63 seconds (86.93 from start).\n",
      "Finished iteration 7 out of 101 in 13.88 seconds (100.81 from start).\n",
      "Finished iteration 8 out of 101 in 15.61 seconds (116.42 from start).\n",
      "Finished iteration 9 out of 101 in 14.33 seconds (130.75 from start).\n",
      "Finished iteration 10 out of 101 in 15.64 seconds (146.39 from start).\n",
      "Finished iteration 11 out of 101 in 15.58 seconds (161.97 from start).\n",
      "Finished iteration 12 out of 101 in 18.25 seconds (180.22 from start).\n",
      "Finished iteration 13 out of 101 in 16.05 seconds (196.27 from start).\n",
      "Finished iteration 14 out of 101 in 16.05 seconds (212.33 from start).\n",
      "Finished iteration 15 out of 101 in 18.99 seconds (231.32 from start).\n",
      "Finished iteration 16 out of 101 in 16.25 seconds (247.57 from start).\n",
      "Finished iteration 17 out of 101 in 16.35 seconds (263.92 from start).\n",
      "Finished iteration 18 out of 101 in 18.36 seconds (282.28 from start).\n",
      "Finished iteration 19 out of 101 in 19.81 seconds (302.1 from start).\n",
      "Finished iteration 20 out of 101 in 18.25 seconds (320.34 from start).\n",
      "Finished iteration 21 out of 101 in 19.6 seconds (339.95 from start).\n",
      "Finished iteration 22 out of 101 in 18.95 seconds (358.89 from start).\n",
      "Finished iteration 23 out of 101 in 21.14 seconds (380.03 from start).\n",
      "Finished iteration 24 out of 101 in 21.66 seconds (401.69 from start).\n",
      "Finished iteration 25 out of 101 in 23.33 seconds (425.02 from start).\n",
      "Finished iteration 26 out of 101 in 22.12 seconds (447.14 from start).\n",
      "Finished iteration 27 out of 101 in 20.89 seconds (468.03 from start).\n",
      "Finished iteration 28 out of 101 in 22.46 seconds (490.49 from start).\n",
      "Finished iteration 29 out of 101 in 23.56 seconds (514.05 from start).\n",
      "Finished iteration 30 out of 101 in 22.94 seconds (536.99 from start).\n",
      "Finished iteration 31 out of 101 in 24.43 seconds (561.42 from start).\n",
      "Finished iteration 32 out of 101 in 23.45 seconds (584.87 from start).\n",
      "Finished iteration 33 out of 101 in 23.99 seconds (608.85 from start).\n",
      "Finished iteration 34 out of 101 in 25.22 seconds (634.07 from start).\n",
      "Finished iteration 35 out of 101 in 26.51 seconds (660.58 from start).\n",
      "Finished iteration 36 out of 101 in 29.94 seconds (690.52 from start).\n",
      "Finished iteration 37 out of 101 in 29.96 seconds (720.48 from start).\n",
      "Finished iteration 38 out of 101 in 27.48 seconds (747.96 from start).\n",
      "Finished iteration 39 out of 101 in 28.81 seconds (776.77 from start).\n",
      "Finished iteration 40 out of 101 in 30.67 seconds (807.43 from start).\n",
      "Finished iteration 41 out of 101 in 34.2 seconds (841.63 from start).\n",
      "Finished iteration 42 out of 101 in 33.22 seconds (874.85 from start).\n",
      "Finished iteration 43 out of 101 in 32.81 seconds (907.66 from start).\n",
      "Finished iteration 44 out of 101 in 34.28 seconds (941.94 from start).\n",
      "Finished iteration 45 out of 101 in 34.37 seconds (976.31 from start).\n",
      "Finished iteration 46 out of 101 in 38.49 seconds (1014.8 from start).\n",
      "Finished iteration 47 out of 101 in 34.99 seconds (1049.79 from start).\n",
      "Finished iteration 48 out of 101 in 36.33 seconds (1086.12 from start).\n",
      "Finished iteration 49 out of 101 in 37.07 seconds (1123.19 from start).\n",
      "Finished iteration 50 out of 101 in 40.34 seconds (1163.53 from start).\n",
      "Finished iteration 51 out of 101 in 39.69 seconds (1203.22 from start).\n",
      "Finished iteration 52 out of 101 in 42.22 seconds (1245.44 from start).\n",
      "Finished iteration 53 out of 101 in 43.1 seconds (1288.54 from start).\n",
      "Finished iteration 54 out of 101 in 43.62 seconds (1332.15 from start).\n",
      "Finished iteration 55 out of 101 in 44.68 seconds (1376.83 from start).\n",
      "Finished iteration 56 out of 101 in 47.87 seconds (1424.7 from start).\n",
      "Finished iteration 57 out of 101 in 47.68 seconds (1472.39 from start).\n",
      "Finished iteration 58 out of 101 in 51.25 seconds (1523.63 from start).\n",
      "Finished iteration 59 out of 101 in 49.8 seconds (1573.44 from start).\n",
      "Finished iteration 60 out of 101 in 55.6 seconds (1629.04 from start).\n",
      "Finished iteration 61 out of 101 in 53.64 seconds (1682.68 from start).\n",
      "Finished iteration 62 out of 101 in 54.77 seconds (1737.45 from start).\n",
      "Finished iteration 63 out of 101 in 56.33 seconds (1793.78 from start).\n",
      "Finished iteration 64 out of 101 in 60.08 seconds (1853.86 from start).\n",
      "Finished iteration 65 out of 101 in 57.25 seconds (1911.11 from start).\n",
      "Finished iteration 66 out of 101 in 63.65 seconds (1974.76 from start).\n",
      "Finished iteration 67 out of 101 in 63.95 seconds (2038.71 from start).\n",
      "Finished iteration 68 out of 101 in 67.67 seconds (2106.38 from start).\n",
      "Finished iteration 69 out of 101 in 64.93 seconds (2171.31 from start).\n",
      "Finished iteration 70 out of 101 in 70.64 seconds (2241.95 from start).\n",
      "Finished iteration 71 out of 101 in 70.97 seconds (2312.92 from start).\n",
      "Finished iteration 72 out of 101 in 72.99 seconds (2385.91 from start).\n",
      "Finished iteration 73 out of 101 in 79.05 seconds (2464.97 from start).\n",
      "Finished iteration 74 out of 101 in 75.71 seconds (2540.68 from start).\n",
      "Finished iteration 75 out of 101 in 79.65 seconds (2620.33 from start).\n",
      "Finished iteration 76 out of 101 in 83.76 seconds (2704.09 from start).\n",
      "Finished iteration 77 out of 101 in 85.37 seconds (2789.46 from start).\n",
      "Finished iteration 78 out of 101 in 92.61 seconds (2882.07 from start).\n",
      "Finished iteration 79 out of 101 in 94.48 seconds (2976.56 from start).\n",
      "Finished iteration 80 out of 101 in 95.66 seconds (3072.22 from start).\n",
      "Finished iteration 81 out of 101 in 102.69 seconds (3174.91 from start).\n",
      "Finished iteration 82 out of 101 in 99.34 seconds (3274.25 from start).\n",
      "Finished iteration 83 out of 101 in 102.04 seconds (3376.29 from start).\n",
      "Finished iteration 84 out of 101 in 106.16 seconds (3482.45 from start).\n",
      "Finished iteration 85 out of 101 in 120.5 seconds (3602.95 from start).\n",
      "Finished iteration 86 out of 101 in 116.35 seconds (3719.31 from start).\n",
      "Finished iteration 87 out of 101 in 121.52 seconds (3840.82 from start).\n",
      "Finished iteration 88 out of 101 in 125.4 seconds (3966.22 from start).\n",
      "Finished iteration 89 out of 101 in 133.1 seconds (4099.32 from start).\n",
      "Finished iteration 90 out of 101 in 133.69 seconds (4233.01 from start).\n",
      "Finished iteration 91 out of 101 in 138.99 seconds (4372.0 from start).\n",
      "Finished iteration 92 out of 101 in 142.51 seconds (4514.51 from start).\n",
      "Finished iteration 93 out of 101 in 150.69 seconds (4665.19 from start).\n",
      "Finished iteration 94 out of 101 in 157.74 seconds (4822.93 from start).\n",
      "Finished iteration 95 out of 101 in 156.95 seconds (4979.88 from start).\n",
      "Finished iteration 96 out of 101 in 163.57 seconds (5143.45 from start).\n",
      "Finished iteration 97 out of 101 in 170.18 seconds (5313.63 from start).\n",
      "Finished iteration 98 out of 101 in 169.13 seconds (5482.76 from start).\n",
      "Finished iteration 99 out of 101 in 178.15 seconds (5660.91 from start).\n",
      "Finished iteration 100 out of 101 in 186.71 seconds (5847.63 from start).\n",
      "Finished iteration 101 out of 101 in 202.04 seconds (6049.67 from start).\n"
     ]
    }
   ],
   "source": [
    "#The ProcessPoolExecutor calling RL_iteration_for_concurrent function to evaluate the RL_data_in_SNR data\n",
    "start = time.time()\n",
    "for i in range(RL_sim_data_in.shape[0]):\n",
    "    start_i = time.time()\n",
    "    with concurrent.futures.ProcessPoolExecutor(CPU_units_to_use) as pool:\n",
    "        intermediate_func = functools.partial(RL_iteration_for_concurrent, kernel)\n",
    "        res = pool.map(intermediate_func, RL_sim_data_in[i])\n",
    "    RL_sim_output[i] = np.array(list(res))\n",
    "    print(\"Finished iteration\", i+1, \"out of\", RL_sim_data_in.shape[0], \"in\", np.round(time.time()-start_i, 2), \"seconds (\" + str(np.round(time.time()-start, 2)), \"from start).\")\n",
    "\n",
    "np.save(\"Evaluated_data/RL_Simulated_data_output.npy\", RL_sim_output)"
   ]
  },
  {
   "cell_type": "code",
   "execution_count": 15,
   "id": "f4866fcb-c366-4897-9862-a0d55d64f321",
   "metadata": {},
   "outputs": [],
   "source": [
    "#Evaluate a chosen metric comparing the DAMN output with the corresponding target image\n",
    "RL_sim_errors = Evaluate_metric(RL_sim_output, RL_sim_data_target)\n",
    "\n",
    "np.save(\"Evaluated_data/RL_Simulated_data_errors.npy\", RL_sim_errors)"
   ]
  },
  {
   "cell_type": "markdown",
   "id": "cacbd8a3-24bf-44a3-8b16-32b4719aa842",
   "metadata": {},
   "source": [
    "#### Measured data"
   ]
  },
  {
   "cell_type": "code",
   "execution_count": 16,
   "id": "fc37ae31-07f6-4108-8e85-5d961375509e",
   "metadata": {},
   "outputs": [
    {
     "name": "stdout",
     "output_type": "stream",
     "text": [
      "Using the following Measured data shape for RL algorithm: (8, 1000, 50, 50)\n"
     ]
    }
   ],
   "source": [
    "#As the RL algorithm is very time consuming (matter of up to hours), you can choose to evaluate only a small portion of the data for the graph visualization\n",
    "#Namely, 1/50 of data samples in every point on the horizontal axis\n",
    "use_all_meas_data = True             #Switch to False for evaluating only the reduced dataset \n",
    "\n",
    "if use_all_meas_data:\n",
    "    RL_meas_data_in = meas_data_in\n",
    "    RL_meas_data_target = meas_data_target\n",
    "    RL_meas_output = np.zeros(meas_data_in.shape)\n",
    "else:\n",
    "    RL_meas_data_in = meas_data_in[:,:20]\n",
    "    RL_meas_data_target = meas_data_target[:,:20]\n",
    "    RL_meas_output = np.zeros(meas_data_in[:,:20].shape)\n",
    "\n",
    "print(\"Using the following Measured data shape for RL algorithm:\", RL_meas_data_in.shape)"
   ]
  },
  {
   "cell_type": "markdown",
   "id": "b9e1b4d8-c089-4a08-bd8a-c521f5b6887e",
   "metadata": {},
   "source": [
    "##### The following cell runs the Richardson-Lucy algorithm, which might turn very time consuming"
   ]
  },
  {
   "cell_type": "code",
   "execution_count": 17,
   "id": "500520a5-beae-4291-9cb8-b8a3e3b1ec5f",
   "metadata": {
    "scrolled": true
   },
   "outputs": [
    {
     "name": "stdout",
     "output_type": "stream",
     "text": [
      "Finished iteration 1 out of 8 in 123.4 seconds (123.4 from start).\n",
      "Finished iteration 2 out of 8 in 152.07 seconds (275.47 from start).\n",
      "Finished iteration 3 out of 8 in 206.23 seconds (481.7 from start).\n",
      "Finished iteration 4 out of 8 in 295.54 seconds (777.24 from start).\n",
      "Finished iteration 5 out of 8 in 451.87 seconds (1229.11 from start).\n",
      "Finished iteration 6 out of 8 in 693.84 seconds (1922.95 from start).\n",
      "Finished iteration 7 out of 8 in 1139.92 seconds (3062.86 from start).\n",
      "Finished iteration 8 out of 8 in 1966.74 seconds (5029.6 from start).\n"
     ]
    }
   ],
   "source": [
    "#The ProcessPoolExecutor calling RL_iteration_for_concurrent function to evaluate the RL_data_in_SNR data\n",
    "start = time.time()\n",
    "for i in range(RL_meas_data_in.shape[0]):\n",
    "    start_i = time.time()\n",
    "    with concurrent.futures.ProcessPoolExecutor(CPU_units_to_use) as pool:\n",
    "        intermediate_func = functools.partial(RL_iteration_for_concurrent, kernel)\n",
    "        res = pool.map(intermediate_func, RL_meas_data_in[i])\n",
    "    RL_meas_output[i] = np.array(list(res))\n",
    "    print(\"Finished iteration\", i+1, \"out of\", RL_meas_data_in.shape[0], \"in\", np.round(time.time()-start_i, 2), \"seconds (\" + str(np.round(time.time()-start, 2)), \"from start).\")\n",
    "\n",
    "np.save(\"Evaluated_data/RL_Measured_data_output.npy\", RL_meas_output)"
   ]
  },
  {
   "cell_type": "code",
   "execution_count": 18,
   "id": "35508ebc-2d02-4e70-9e77-b57c10a3f543",
   "metadata": {},
   "outputs": [],
   "source": [
    "#Evaluate a chosen metric comparing the DAMN output with the corresponding target image\n",
    "RL_meas_errors = Evaluate_metric(RL_meas_output, RL_meas_data_target)\n",
    "\n",
    "np.save(\"Evaluated_data/RL_Measured_data_errors.npy\", RL_meas_errors)"
   ]
  },
  {
   "cell_type": "code",
   "execution_count": null,
   "id": "7da83120-f5d1-4a9c-8825-8c391dfb8f07",
   "metadata": {},
   "outputs": [],
   "source": []
  }
 ],
 "metadata": {
  "kernelspec": {
   "display_name": "Python 3",
   "language": "python",
   "name": "python3"
  },
  "language_info": {
   "codemirror_mode": {
    "name": "ipython",
    "version": 3
   },
   "file_extension": ".py",
   "mimetype": "text/x-python",
   "name": "python",
   "nbconvert_exporter": "python",
   "pygments_lexer": "ipython3",
   "version": "3.11.3"
  }
 },
 "nbformat": 4,
 "nbformat_minor": 5
}
